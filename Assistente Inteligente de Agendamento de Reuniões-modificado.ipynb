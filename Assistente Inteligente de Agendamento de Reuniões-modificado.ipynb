{
 "cells": [
  {
   "cell_type": "markdown",
   "metadata": {},
   "source": [
    "Visão Geral do Projeto\n",
    "Este projeto consiste em criar um assistente que:\n",
    "\n",
    "Recebe solicitações de reuniões em linguagem natural.\n",
    "Entende restrições e preferências dos participantes.\n",
    "Verifica os calendários dos participantes.\n",
    "Agenda reuniões de forma eficiente.\n",
    "Envia convites automaticamente.\n",
    "Utilizaremos as seguintes tecnologias:\n",
    "\n",
    "Python: Linguagem de programação principal.\n",
    "LangGraph: Para criar fluxos de trabalho baseados em estados.\n",
    "LangChain: Para interação com modelos de linguagem natural (LLMs).\n",
    "Bibliotecas de Calendário e Email: Para acessar calendários e enviar emails (exemplo: caldav, smtplib)."
   ]
  },
  {
   "cell_type": "markdown",
   "metadata": {},
   "source": [
    "Parte 1: Preparação do Ambiente\n",
    "1.1. Instalação de Bibliotecas Necessárias\n",
    "Execute o seguinte comando em uma célula do Jupyter Notebook para instalar as bibliotecas necessárias:"
   ]
  },
  {
   "cell_type": "code",
   "execution_count": 1,
   "metadata": {},
   "outputs": [
    {
     "name": "stdout",
     "output_type": "stream",
     "text": [
      "Looking in indexes: https://pypi.org/simple, https://pypi.ngc.nvidia.com\n",
      "Requirement already satisfied: langgraph in c:\\users\\marse\\documentos\\scoras\\lib\\site-packages (0.5.3)\n",
      "Requirement already satisfied: langchain-openai in c:\\users\\marse\\documentos\\scoras\\lib\\site-packages (0.3.28)\n",
      "Requirement already satisfied: langchain-core in c:\\users\\marse\\documentos\\scoras\\lib\\site-packages (0.3.69)\n",
      "Requirement already satisfied: openai in c:\\users\\marse\\documentos\\scoras\\lib\\site-packages (1.93.3)\n",
      "Collecting caldav\n",
      "  Downloading caldav-2.0.1-py2.py3-none-any.whl.metadata (2.4 kB)\n",
      "Requirement already satisfied: python-dotenv in c:\\users\\marse\\documentos\\scoras\\lib\\site-packages (1.1.1)\n",
      "Requirement already satisfied: langgraph-checkpoint<3.0.0,>=2.1.0 in c:\\users\\marse\\documentos\\scoras\\lib\\site-packages (from langgraph) (2.1.0)\n",
      "Requirement already satisfied: langgraph-prebuilt<0.6.0,>=0.5.0 in c:\\users\\marse\\documentos\\scoras\\lib\\site-packages (from langgraph) (0.5.2)\n",
      "Requirement already satisfied: langgraph-sdk<0.2.0,>=0.1.42 in c:\\users\\marse\\documentos\\scoras\\lib\\site-packages (from langgraph) (0.1.73)\n",
      "Requirement already satisfied: pydantic>=2.7.4 in c:\\users\\marse\\documentos\\scoras\\lib\\site-packages (from langgraph) (2.11.7)\n",
      "Requirement already satisfied: xxhash>=3.5.0 in c:\\users\\marse\\documentos\\scoras\\lib\\site-packages (from langgraph) (3.5.0)\n",
      "Requirement already satisfied: ormsgpack>=1.10.0 in c:\\users\\marse\\documentos\\scoras\\lib\\site-packages (from langgraph-checkpoint<3.0.0,>=2.1.0->langgraph) (1.10.0)\n",
      "Requirement already satisfied: httpx>=0.25.2 in c:\\users\\marse\\documentos\\scoras\\lib\\site-packages (from langgraph-sdk<0.2.0,>=0.1.42->langgraph) (0.28.1)\n",
      "Requirement already satisfied: orjson>=3.10.1 in c:\\users\\marse\\documentos\\scoras\\lib\\site-packages (from langgraph-sdk<0.2.0,>=0.1.42->langgraph) (3.11.0)\n",
      "Requirement already satisfied: tiktoken<1,>=0.7 in c:\\users\\marse\\documentos\\scoras\\lib\\site-packages (from langchain-openai) (0.9.0)\n",
      "Requirement already satisfied: langsmith>=0.3.45 in c:\\users\\marse\\documentos\\scoras\\lib\\site-packages (from langchain-core) (0.4.6)\n",
      "Requirement already satisfied: tenacity!=8.4.0,<10.0.0,>=8.1.0 in c:\\users\\marse\\documentos\\scoras\\lib\\site-packages (from langchain-core) (9.1.2)\n",
      "Requirement already satisfied: jsonpatch<2.0,>=1.33 in c:\\users\\marse\\documentos\\scoras\\lib\\site-packages (from langchain-core) (1.33)\n",
      "Requirement already satisfied: PyYAML>=5.3 in c:\\users\\marse\\documentos\\scoras\\lib\\site-packages (from langchain-core) (6.0.2)\n",
      "Requirement already satisfied: typing-extensions>=4.7 in c:\\users\\marse\\documentos\\scoras\\lib\\site-packages (from langchain-core) (4.14.1)\n",
      "Requirement already satisfied: packaging>=23.2 in c:\\users\\marse\\documentos\\scoras\\lib\\site-packages (from langchain-core) (25.0)\n",
      "Requirement already satisfied: anyio<5,>=3.5.0 in c:\\users\\marse\\documentos\\scoras\\lib\\site-packages (from openai) (4.9.0)\n",
      "Requirement already satisfied: distro<2,>=1.7.0 in c:\\users\\marse\\documentos\\scoras\\lib\\site-packages (from openai) (1.9.0)\n",
      "Requirement already satisfied: jiter<1,>=0.4.0 in c:\\users\\marse\\documentos\\scoras\\lib\\site-packages (from openai) (0.10.0)\n",
      "Requirement already satisfied: sniffio in c:\\users\\marse\\documentos\\scoras\\lib\\site-packages (from openai) (1.3.1)\n",
      "Requirement already satisfied: tqdm>4 in c:\\users\\marse\\documentos\\scoras\\lib\\site-packages (from openai) (4.67.1)\n",
      "Requirement already satisfied: idna>=2.8 in c:\\users\\marse\\documentos\\scoras\\lib\\site-packages (from anyio<5,>=3.5.0->openai) (3.10)\n",
      "Requirement already satisfied: certifi in c:\\users\\marse\\documentos\\scoras\\lib\\site-packages (from httpx>=0.25.2->langgraph-sdk<0.2.0,>=0.1.42->langgraph) (2025.7.14)\n",
      "Requirement already satisfied: httpcore==1.* in c:\\users\\marse\\documentos\\scoras\\lib\\site-packages (from httpx>=0.25.2->langgraph-sdk<0.2.0,>=0.1.42->langgraph) (1.0.9)\n",
      "Requirement already satisfied: h11>=0.16 in c:\\users\\marse\\documentos\\scoras\\lib\\site-packages (from httpcore==1.*->httpx>=0.25.2->langgraph-sdk<0.2.0,>=0.1.42->langgraph) (0.16.0)\n",
      "Requirement already satisfied: jsonpointer>=1.9 in c:\\users\\marse\\documentos\\scoras\\lib\\site-packages (from jsonpatch<2.0,>=1.33->langchain-core) (3.0.0)\n",
      "Requirement already satisfied: annotated-types>=0.6.0 in c:\\users\\marse\\documentos\\scoras\\lib\\site-packages (from pydantic>=2.7.4->langgraph) (0.7.0)\n",
      "Requirement already satisfied: pydantic-core==2.33.2 in c:\\users\\marse\\documentos\\scoras\\lib\\site-packages (from pydantic>=2.7.4->langgraph) (2.33.2)\n",
      "Requirement already satisfied: typing-inspection>=0.4.0 in c:\\users\\marse\\documentos\\scoras\\lib\\site-packages (from pydantic>=2.7.4->langgraph) (0.4.1)\n",
      "Requirement already satisfied: regex>=2022.1.18 in c:\\users\\marse\\documentos\\scoras\\lib\\site-packages (from tiktoken<1,>=0.7->langchain-openai) (2024.11.6)\n",
      "Requirement already satisfied: requests>=2.26.0 in c:\\users\\marse\\documentos\\scoras\\lib\\site-packages (from tiktoken<1,>=0.7->langchain-openai) (2.32.4)\n",
      "Collecting icalendar>6.0.0 (from caldav)\n",
      "  Downloading icalendar-6.3.1-py3-none-any.whl.metadata (9.0 kB)\n",
      "Collecting lxml (from caldav)\n",
      "  Downloading lxml-6.0.0-cp313-cp313-win_amd64.whl.metadata (6.8 kB)\n",
      "Collecting recurring-ical-events>=2.0.0 (from caldav)\n",
      "  Downloading recurring_ical_events-3.8.0-py3-none-any.whl.metadata (4.5 kB)\n",
      "Requirement already satisfied: python-dateutil in c:\\users\\marse\\documentos\\scoras\\lib\\site-packages (from icalendar>6.0.0->caldav) (2.9.0.post0)\n",
      "Requirement already satisfied: tzdata in c:\\users\\marse\\documentos\\scoras\\lib\\site-packages (from icalendar>6.0.0->caldav) (2025.2)\n",
      "Requirement already satisfied: requests-toolbelt<2.0.0,>=1.0.0 in c:\\users\\marse\\documentos\\scoras\\lib\\site-packages (from langsmith>=0.3.45->langchain-core) (1.0.0)\n",
      "Requirement already satisfied: zstandard<0.24.0,>=0.23.0 in c:\\users\\marse\\documentos\\scoras\\lib\\site-packages (from langsmith>=0.3.45->langchain-core) (0.23.0)\n",
      "Requirement already satisfied: charset_normalizer<4,>=2 in c:\\users\\marse\\documentos\\scoras\\lib\\site-packages (from requests>=2.26.0->tiktoken<1,>=0.7->langchain-openai) (3.4.2)\n",
      "Requirement already satisfied: urllib3<3,>=1.21.1 in c:\\users\\marse\\documentos\\scoras\\lib\\site-packages (from requests>=2.26.0->tiktoken<1,>=0.7->langchain-openai) (2.5.0)\n",
      "Collecting x-wr-timezone<3.0.0,>=1.0.0 (from recurring-ical-events>=2.0.0->caldav)\n",
      "  Downloading x_wr_timezone-2.0.1-py3-none-any.whl.metadata (10 kB)\n",
      "Requirement already satisfied: six>=1.5 in c:\\users\\marse\\documentos\\scoras\\lib\\site-packages (from python-dateutil->icalendar>6.0.0->caldav) (1.17.0)\n",
      "Requirement already satisfied: click in c:\\users\\marse\\documentos\\scoras\\lib\\site-packages (from x-wr-timezone<3.0.0,>=1.0.0->recurring-ical-events>=2.0.0->caldav) (8.2.1)\n",
      "Requirement already satisfied: colorama in c:\\users\\marse\\documentos\\scoras\\lib\\site-packages (from tqdm>4->openai) (0.4.6)\n",
      "Downloading caldav-2.0.1-py2.py3-none-any.whl (94 kB)\n",
      "Downloading icalendar-6.3.1-py3-none-any.whl (242 kB)\n",
      "Downloading recurring_ical_events-3.8.0-py3-none-any.whl (238 kB)\n",
      "Downloading x_wr_timezone-2.0.1-py3-none-any.whl (11 kB)\n",
      "Downloading lxml-6.0.0-cp313-cp313-win_amd64.whl (4.0 MB)\n",
      "   ---------------------------------------- 0.0/4.0 MB ? eta -:--:--\n",
      "   ------- -------------------------------- 0.8/4.0 MB 4.6 MB/s eta 0:00:01\n",
      "   -------------------- ------------------- 2.1/4.0 MB 5.0 MB/s eta 0:00:01\n",
      "   ---------------------------- ----------- 2.9/4.0 MB 4.5 MB/s eta 0:00:01\n",
      "   ---------------------------------------- 4.0/4.0 MB 4.7 MB/s eta 0:00:00\n",
      "Installing collected packages: lxml, icalendar, x-wr-timezone, recurring-ical-events, caldav\n",
      "\n",
      "   ---------------------------------------- 0/5 [lxml]\n",
      "   -------- ------------------------------- 1/5 [icalendar]\n",
      "   -------- ------------------------------- 1/5 [icalendar]\n",
      "   ------------------------ --------------- 3/5 [recurring-ical-events]\n",
      "   -------------------------------- ------- 4/5 [caldav]\n",
      "   ---------------------------------------- 5/5 [caldav]\n",
      "\n",
      "Successfully installed caldav-2.0.1 icalendar-6.3.1 lxml-6.0.0 recurring-ical-events-3.8.0 x-wr-timezone-2.0.1\n"
     ]
    }
   ],
   "source": [
    "!pip install langgraph langchain-openai langchain-core openai caldav python-dotenv\n"
   ]
  },
  {
   "cell_type": "code",
   "execution_count": null,
   "metadata": {},
   "outputs": [],
   "source": [
    "# Importações necessárias\n",
    "import os\n",
    "import re\n",
    "import json\n",
    "import datetime\n",
    "from typing import TypedDict, List, Dict\n",
    "from langgraph.graph import StateGraph, START, END\n",
    "from langchain_openai.chat_models import ChatOpenAI\n",
    "from langchain_core.prompts import ChatPromptTemplate\n",
    "from dotenv import load_dotenv\n",
    "from IPython.display import display, Image\n",
    "\n",
    "\n",
    "# Carregar variáveis de ambiente\n",
    "load_dotenv()\n",
    "os.environ[\"OPENAI_API_KEY\"] = ''\n",
    "\n",
    "# Inicializar o modelo de linguagem \n",
    "llm = ChatOpenAI(model_name=\"gpt-4o-mini\", temperature=0)\n"
   ]
  },
  {
   "cell_type": "markdown",
   "metadata": {},
   "source": [
    "Notas:\n",
    "\n",
    "caldav: Biblioteca para acessar calendários via protocolo CalDAV.\n",
    "python-dotenv: Para carregar variáveis de ambiente de um arquivo .env.\n",
    "langgraph, langchain-openai, langchain-core, openai: Bibliotecas para interação com modelos de linguagem e construção do fluxo de trabalho."
   ]
  },
  {
   "cell_type": "markdown",
   "metadata": {},
   "source": [
    "Parte 2: Definição das Estruturas de Dados e Estado\n",
    "2.1. Definição das Estruturas de Dados"
   ]
  },
  {
   "cell_type": "code",
   "execution_count": 3,
   "metadata": {},
   "outputs": [],
   "source": [
    "# Estruturas de dados para participantes e reuniões\n",
    "class Participant(TypedDict):\n",
    "    name: str\n",
    "    email: str\n",
    "    calendar: List[Dict[str, any]]  # Lista de eventos no calendário\n",
    "\n",
    "class MeetingRequest(TypedDict):\n",
    "    requester: str\n",
    "    attendees: List[str]\n",
    "    preferred_times: List[str]\n",
    "    duration: int  # em minutos\n",
    "    subject: str\n",
    "    constraints: Dict[str, any]\n",
    "\n",
    "class ScheduledMeeting(TypedDict):\n",
    "    subject: str\n",
    "    time: datetime.datetime\n",
    "    duration: int\n",
    "    attendees: List[str]\n",
    "    organizer: str\n"
   ]
  },
  {
   "cell_type": "markdown",
   "metadata": {},
   "source": [
    "2.2. Definição do Estado do Fluxo de Trabalho\n",
    "\n"
   ]
  },
  {
   "cell_type": "code",
   "execution_count": 4,
   "metadata": {},
   "outputs": [],
   "source": [
    "# Definição do estado\n",
    "class State(TypedDict):\n",
    "    meeting_request: MeetingRequest\n",
    "    participants: Dict[str, Participant]\n",
    "    scheduled_meeting: ScheduledMeeting\n",
    "    errors: List[str]\n"
   ]
  },
  {
   "cell_type": "markdown",
   "metadata": {},
   "source": [
    "Parte 3: Implementação das Funções de Fluxo de Trabalho\n",
    "3.1. Função para Processar a Solicitação de Reunião"
   ]
  },
  {
   "cell_type": "code",
   "execution_count": 5,
   "metadata": {},
   "outputs": [],
   "source": [
    "def parse_meeting_request(state: State) -> State:\n",
    "    \"\"\"\n",
    "    Analisa a solicitação de reunião em linguagem natural e extrai informações relevantes.\n",
    "    \"\"\"\n",
    "    meeting_request_text = state['meeting_request']['raw_text']\n",
    "    \n",
    "    prompt = ChatPromptTemplate.from_template(\n",
    "        \"\"\"\n",
    "Você é um assistente que extrai informações de solicitações de reuniões.\n",
    "A partir do texto abaixo, extraia:\n",
    "- Solicitante (nome)\n",
    "- Lista de participantes (nomes)\n",
    "- Horários preferenciais (lista de datas e horários)\n",
    "- Duração da reunião em minutos\n",
    "- Assunto da reunião\n",
    "- Restrições adicionais ou preferências\n",
    "\n",
    "Retorne as informações em formato JSON, sem texto adicional.\n",
    "\n",
    "Exemplo de formato:\n",
    "{{\n",
    "  \"requester\": \"Nome do Solicitante\",\n",
    "  \"attendees\": [\"Participante 1\", \"Participante 2\"],\n",
    "  \"preferred_times\": [\"2023-10-01 14:00\", \"2023-10-02 10:00\"],\n",
    "  \"duration\": 60,\n",
    "  \"subject\": \"Assunto da Reunião\",\n",
    "  \"constraints\": {{}}\n",
    "}}\n",
    "\n",
    "Texto da solicitação:\n",
    "{meeting_request_text}\n",
    "        \"\"\"\n",
    "    )\n",
    "    response = llm.invoke(prompt.format(meeting_request_text=meeting_request_text))\n",
    "    try:\n",
    "        meeting_info = json.loads(response.content)\n",
    "        state['meeting_request'].update(meeting_info)\n",
    "    except json.JSONDecodeError as e:\n",
    "        state['errors'].append(f\"Erro ao analisar a solicitação: {e}\")\n",
    "    return state\n"
   ]
  },
  {
   "cell_type": "markdown",
   "metadata": {},
   "source": [
    "3.2. Função para Verificar Disponibilidade dos Participantes\n",
    "\n"
   ]
  },
  {
   "cell_type": "code",
   "execution_count": 7,
   "metadata": {},
   "outputs": [],
   "source": [
    "def check_availability(state: State) -> State:\n",
    "    \"\"\"\n",
    "    Verifica a disponibilidade dos participantes nos horários preferenciais.\n",
    "    \"\"\"\n",
    "    available_times = []\n",
    "    for time_str in state['meeting_request']['preferred_times']:\n",
    "        time_obj = datetime.datetime.strptime(time_str, \"%Y-%m-%d %H:%M\")\n",
    "        duration = datetime.timedelta(minutes=state['meeting_request']['duration'])\n",
    "        end_time = time_obj + duration\n",
    "        \n",
    "        # Verificar disponibilidade de todos os participantes\n",
    "        all_available = True\n",
    "        for attendee in state['meeting_request']['attendees']:\n",
    "            calendar = state['participants'][attendee]['calendar']\n",
    "            for event in calendar:\n",
    "                event_start = event['start_time']\n",
    "                event_end = event['end_time']\n",
    "                # Se houver conflito, marcar como indisponível\n",
    "                if (time_obj < event_end) and (end_time > event_start):\n",
    "                    all_available = False\n",
    "                    break\n",
    "            if not all_available:\n",
    "                break\n",
    "        if all_available:\n",
    "            available_times.append(time_obj)\n",
    "    \n",
    "    if available_times:\n",
    "        # Agendar no primeiro horário disponível\n",
    "        state['scheduled_meeting'] = {\n",
    "            \"subject\": state['meeting_request']['subject'],\n",
    "            \"time\": available_times[0],\n",
    "            \"duration\": state['meeting_request']['duration'],\n",
    "            \"attendees\": state['meeting_request']['attendees'],\n",
    "            \"organizer\": state['meeting_request']['requester']\n",
    "        }\n",
    "    else:\n",
    "        state['errors'].append(\"Não foi possível encontrar um horário disponível.\")\n",
    "    return state\n"
   ]
  },
  {
   "cell_type": "markdown",
   "metadata": {},
   "source": [
    "3.3. Função para Enviar Convites"
   ]
  },
  {
   "cell_type": "code",
   "execution_count": 8,
   "metadata": {},
   "outputs": [],
   "source": [
    "def send_invitations(state: State) -> State:\n",
    "    \"\"\"\n",
    "    Envia convites para os participantes.\n",
    "    \"\"\"\n",
    "    if 'scheduled_meeting' not in state:\n",
    "        state['errors'].append(\"Nenhuma reunião agendada para enviar convites.\")\n",
    "        return state\n",
    "    \n",
    "    meeting = state['scheduled_meeting']\n",
    "    for attendee in meeting['attendees']:\n",
    "        email = state['participants'][attendee]['email']\n",
    "        # Aqui você implementaria o envio de email real\n",
    "        print(f\"Enviando convite para {attendee} ({email}) para a reunião '{meeting['subject']}' em {meeting['time']}.\")\n",
    "    return state\n"
   ]
  },
  {
   "cell_type": "markdown",
   "metadata": {},
   "source": [
    "Parte 4: Configuração do Fluxo de Trabalho com LangGraph\n",
    "4.1. Construção do Grafo de Estados"
   ]
  },
  {
   "cell_type": "code",
   "execution_count": 9,
   "metadata": {},
   "outputs": [],
   "source": [
    "# Inicializar o grafo de estado\n",
    "workflow = StateGraph(State)\n",
    "\n",
    "# Adicionar nós\n",
    "workflow.add_node(\"parse_meeting_request\", parse_meeting_request)\n",
    "workflow.add_node(\"check_availability\", check_availability)\n",
    "workflow.add_node(\"send_invitations\", send_invitations)\n",
    "\n",
    "# Definir as arestas\n",
    "workflow.add_edge(START, \"parse_meeting_request\")\n",
    "workflow.add_edge(\"parse_meeting_request\", \"check_availability\")\n",
    "workflow.add_edge(\"check_availability\", \"send_invitations\")\n",
    "workflow.add_edge(\"send_invitations\", END)\n",
    "\n",
    "# Definir o ponto de entrada\n",
    "workflow.set_entry_point(\"parse_meeting_request\")\n",
    "\n",
    "# Compilar o grafo\n",
    "app = workflow.compile()\n"
   ]
  },
  {
   "cell_type": "markdown",
   "metadata": {},
   "source": [
    "4.2. Função Principal para Executar o Fluxo de Trabalho\n",
    "\n"
   ]
  },
  {
   "cell_type": "code",
   "execution_count": 15,
   "metadata": {},
   "outputs": [],
   "source": [
    "def schedule_meeting(meeting_request_text: str, participants: Dict[str, Participant]):\n",
    "    \"\"\"\n",
    "    Processa a solicitação de reunião e agenda se possível.\n",
    "    \n",
    "    Args:\n",
    "        meeting_request_text (str): Texto da solicitação em linguagem natural.\n",
    "        participants (Dict[str, Participant]): Informações dos participantes.\n",
    "    \n",
    "    Returns:\n",
    "        State: Estado final após o processamento.\n",
    "    \"\"\"\n",
    "    initial_state = State(\n",
    "        meeting_request={\"raw_text\": meeting_request_text},\n",
    "        participants=participants,\n",
    "        scheduled_meeting={},\n",
    "        errors=[]\n",
    "    )\n",
    "    final_state = app.invoke(initial_state)\n",
    "    return final_state\n"
   ]
  },
  {
   "cell_type": "markdown",
   "metadata": {},
   "source": [
    "Parte 5: Exemplo de Uso\n",
    "\n",
    "5.1. Dados de Exemplo dos Participantes"
   ]
  },
  {
   "cell_type": "code",
   "execution_count": 16,
   "metadata": {},
   "outputs": [],
   "source": [
    "# Dados de exemplo dos participantes\n",
    "participants = {\n",
    "    \"Alice\": {\n",
    "        \"name\": \"Alice\",\n",
    "        \"email\": \"alice@example.com\",\n",
    "        \"calendar\": [\n",
    "            {\"start_time\": datetime.datetime(2023, 10, 1, 9, 0), \"end_time\": datetime.datetime(2023, 10, 1, 10, 0)},\n",
    "            {\"start_time\": datetime.datetime(2023, 10, 1, 14, 0), \"end_time\": datetime.datetime(2023, 10, 1, 15, 0)},\n",
    "        ]\n",
    "    },\n",
    "    \"Bob\": {\n",
    "        \"name\": \"Bob\",\n",
    "        \"email\": \"bob@example.com\",\n",
    "        \"calendar\": [\n",
    "            {\"start_time\": datetime.datetime(2023, 10, 1, 11, 0), \"end_time\": datetime.datetime(2023, 10, 1, 12, 0)},\n",
    "            {\"start_time\": datetime.datetime(2023, 10, 1, 16, 0), \"end_time\": datetime.datetime(2023, 10, 1, 17, 0)},\n",
    "        ]\n",
    "    },\n",
    "    \"Carlos\": {\n",
    "        \"name\": \"Carlos\",\n",
    "        \"email\": \"carlos@example.com\",\n",
    "        \"calendar\": [\n",
    "            {\"start_time\": datetime.datetime(2023, 10, 1, 13, 0), \"end_time\": datetime.datetime(2023, 10, 1, 14, 0)},\n",
    "            {\"start_time\": datetime.datetime(2023, 10, 1, 15, 0), \"end_time\": datetime.datetime(2023, 10, 1, 16, 0)},\n",
    "        ]\n",
    "    },\n",
    "}\n"
   ]
  },
  {
   "cell_type": "markdown",
   "metadata": {},
   "source": [
    "5.2. Solicitação de Reunião em Linguagem Natural\n",
    "\n"
   ]
  },
  {
   "cell_type": "code",
   "execution_count": 17,
   "metadata": {},
   "outputs": [],
   "source": [
    "# Solicitação de reunião em linguagem natural\n",
    "meeting_request_text = \"\"\"\n",
    "Olá,\n",
    "\n",
    "Gostaria de agendar uma reunião sobre o projeto X. Seria ideal se pudéssemos nos reunir amanhã às 10h ou às 15h. A reunião deve durar cerca de 60 minutos.\n",
    "\n",
    "Participantes: Alice, Bob e Carlos.\n",
    "\n",
    "Atenciosamente,\n",
    "Maria\n",
    "\"\"\"\n"
   ]
  },
  {
   "cell_type": "markdown",
   "metadata": {},
   "source": [
    "5.3. Execução do Fluxo de Trabalho\n"
   ]
  },
  {
   "cell_type": "code",
   "execution_count": 18,
   "metadata": {},
   "outputs": [
    {
     "name": "stdout",
     "output_type": "stream",
     "text": [
      "Enviando convite para Alice (alice@example.com) para a reunião 'Projeto X' em 2023-10-01 10:00:00.\n",
      "Enviando convite para Bob (bob@example.com) para a reunião 'Projeto X' em 2023-10-01 10:00:00.\n",
      "Enviando convite para Carlos (carlos@example.com) para a reunião 'Projeto X' em 2023-10-01 10:00:00.\n"
     ]
    }
   ],
   "source": [
    "# Executar o agendamento\n",
    "final_state = schedule_meeting(meeting_request_text, participants)\n"
   ]
  },
  {
   "cell_type": "markdown",
   "metadata": {},
   "source": [
    "5.4. Verificar o Resultado"
   ]
  },
  {
   "cell_type": "code",
   "execution_count": 19,
   "metadata": {},
   "outputs": [
    {
     "name": "stdout",
     "output_type": "stream",
     "text": [
      "Reunião agendada com sucesso!\n",
      "Assunto: Projeto X\n",
      "Horário: 2023-10-01 10:00:00\n",
      "Participantes: Alice, Bob, Carlos\n"
     ]
    }
   ],
   "source": [
    "# Verificar se houve erros\n",
    "if final_state['errors']:\n",
    "    print(\"Erros encontrados:\")\n",
    "    for error in final_state['errors']:\n",
    "        print(f\"- {error}\")\n",
    "else:\n",
    "    meeting = final_state['scheduled_meeting']\n",
    "    print(f\"Reunião agendada com sucesso!\\nAssunto: {meeting['subject']}\\nHorário: {meeting['time']}\\nParticipantes: {', '.join(meeting['attendees'])}\")\n"
   ]
  },
  {
   "cell_type": "markdown",
   "metadata": {},
   "source": [
    "Notas Finais\n",
    "Interação com Calendários Reais: Para tornar o script funcional em um ambiente real, você precisaria integrar com APIs de calendário (como Google Calendar API) e implementar autenticação adequada.\n",
    "\n",
    "Envio de Emails Reais: Para enviar emails, você pode usar a biblioteca smtplib do Python e configurar um servidor SMTP.\n",
    "\n",
    "Melhorias Possíveis:\n",
    "\n",
    "Adicionar tratamento de fusos horários.\n",
    "Implementar lógica para encontrar horários alternativos se nenhum dos preferidos estiver disponível.\n",
    "Salvar os eventos nos calendários dos participantes."
   ]
  }
 ],
 "metadata": {
  "kernelspec": {
   "display_name": "base",
   "language": "python",
   "name": "python3"
  },
  "language_info": {
   "codemirror_mode": {
    "name": "ipython",
    "version": 3
   },
   "file_extension": ".py",
   "mimetype": "text/x-python",
   "name": "python",
   "nbconvert_exporter": "python",
   "pygments_lexer": "ipython3",
   "version": "3.13.5"
  }
 },
 "nbformat": 4,
 "nbformat_minor": 2
}
