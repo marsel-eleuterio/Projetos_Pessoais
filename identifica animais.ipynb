{
 "cells": [
  {
   "cell_type": "code",
   "execution_count": 7,
   "id": "72b65bf5",
   "metadata": {},
   "outputs": [
    {
     "name": "stdout",
     "output_type": "stream",
     "text": [
      "Classe identificada: macaw\n"
     ]
    }
   ],
   "source": [
    "import requests\n",
    "from PIL import Image\n",
    "from io import BytesIO\n",
    "import torch\n",
    "from torchvision import models, transforms\n",
    "from torchvision.models import ResNet50_Weights\n",
    "\n",
    "# Baixar imagem da internet\n",
    "url = \"https://meioambiente.culturamix.com/blog/wp-content/gallery/paisagens-com-arara-azul/paisagens-com-arara-azul-3.jpg\"\n",
    "response = requests.get(url)\n",
    "imagem = Image.open(BytesIO(response.content)).convert(\"RGB\")\n",
    "\n",
    "# Transformações\n",
    "transformacoes = transforms.Compose([\n",
    "    transforms.Resize(256),\n",
    "    transforms.CenterCrop(224),\n",
    "    transforms.ToTensor(),\n",
    "    transforms.Normalize(mean=[0.485, 0.456, 0.406],\n",
    "                         std=[0.229, 0.224, 0.225]),\n",
    "])\n",
    "\n",
    "entrada = transformacoes(imagem).unsqueeze(0)\n",
    "\n",
    "# Modelo pré-treinado\n",
    "modelo = models.resnet50(weights=ResNet50_Weights.DEFAULT)\n",
    "modelo.eval()\n",
    "\n",
    "# Classificação\n",
    "with torch.no_grad():\n",
    "    saida = modelo(entrada)\n",
    "indice = torch.argmax(saida).item()\n",
    "\n",
    "# Rótulos\n",
    "rotulos = ResNet50_Weights.DEFAULT.meta[\"categories\"]\n",
    "print(f\"Classe identificada: {rotulos[indice]}\")\n"
   ]
  }
 ],
 "metadata": {
  "kernelspec": {
   "display_name": "Python 3",
   "language": "python",
   "name": "python3"
  },
  "language_info": {
   "codemirror_mode": {
    "name": "ipython",
    "version": 3
   },
   "file_extension": ".py",
   "mimetype": "text/x-python",
   "name": "python",
   "nbconvert_exporter": "python",
   "pygments_lexer": "ipython3",
   "version": "3.13.5"
  }
 },
 "nbformat": 4,
 "nbformat_minor": 5
}
