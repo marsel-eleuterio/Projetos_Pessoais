{
 "cells": [
  {
   "cell_type": "markdown",
   "metadata": {},
   "source": [
    "# Introdução ao LangGraph\n",
    "\n",
    "LangGraph é um framework para criar aplicações usando fluxos de trabalho baseados em grafos. Cada nó representa uma função ou etapa computacional, e as arestas definem o fluxo entre esses nós com base em certas condições.\n",
    "\n",
    "## Características principais:\n",
    "- Gerenciamento de estado\n",
    "- Roteamento flexível\n",
    "- Persistência\n",
    "- Visualização"
   ]
  },
  {
   "cell_type": "markdown",
   "metadata": {},
   "source": [
    "## Visão Geral do Tutorial: Pipeline de Análise de Texto\n",
    "\n",
    "Neste tutorial, demonstraremos o poder do LangGraph construindo um pipeline de análise de texto em várias etapas. Nosso caso de uso se concentrará no processamento de um determinado texto através de três estágios principais:\n",
    "\n",
    "1. **Classificação de Texto**: Categorizaremos o texto de entrada em categorias predefinidas (por exemplo, Notícias, Blog, Pesquisa ou Outro).\n",
    "2. **Extração de Entidades**: Identificaremos e extrairemos entidades-chave como pessoas, organizações e locais do texto.\n",
    "3. **Resumo de Texto**: Por fim, geraremos um resumo conciso do texto de entrada.\n",
    "\n",
    "Este pipeline demonstra como o LangGraph pode ser usado para criar um fluxo de trabalho modular e extensível para tarefas de processamento de linguagem natural. Ao final deste tutorial, você entenderá como construir uma aplicação baseada em grafos que pode ser facilmente modificada ou expandida para várias necessidades de análise de texto."
   ]
  },
  {
   "cell_type": "markdown",
   "metadata": {},
   "source": [
    "### Importar Bibliotecas Necessárias\n",
    "Esta célula importa todos os módulos e classes necessários para nosso tutorial do LangGraph."
   ]
  },
  {
   "cell_type": "code",
   "execution_count": 1,
   "metadata": {},
   "outputs": [],
   "source": [
    "import os\n",
    "from typing import TypedDict, List\n",
    "from langgraph.graph import StateGraph, END\n",
    "from langchain.prompts import PromptTemplate\n",
    "from langchain_openai import ChatOpenAI\n",
    "from langchain.schema import HumanMessage\n",
    "from langchain_core.runnables.graph import MermaidDrawMethod\n",
    "from IPython.display import display, Image\n",
    "\n",
    "from dotenv import load_dotenv\n",
    "\n",
    "# Importações para manipulação de sistema e tipos\n",
    "# Importações do LangGraph para criação do grafo de estado\n",
    "# Importações do LangChain para prompts, modelos de linguagem e mensagens\n",
    "# Importação para visualização do grafo\n",
    "# Importações para exibição no Jupyter\n",
    "# Importação para carregar variáveis de ambiente"
   ]
  },
  {
   "cell_type": "markdown",
   "metadata": {},
   "source": [
    "### Configurar a Chave da API\n",
    "Esta célula carrega as variáveis de ambiente e configura a chave da API do OpenAI. Certifique-se de ter um arquivo `.env` com sua `OPENAI_API_KEY`."
   ]
  },
  {
   "cell_type": "code",
   "execution_count": null,
   "metadata": {},
   "outputs": [],
   "source": [
    "# Carregar variáveis de ambiente\n",
    "load_dotenv()\n",
    "\n",
    "# Configurar a chave da API do OpenAI\n",
    "os.environ[\"OPENAI_API_KEY\"] =''"
   ]
  },
  {
   "cell_type": "markdown",
   "metadata": {},
   "source": [
    "## Construindo o Pipeline de Processamento de Texto\n",
    "\n",
    "### Definir Estado e Inicializar LLM\n",
    "Aqui definimos a classe State para armazenar os dados do nosso fluxo de trabalho e inicializamos o modelo ChatOpenAI."
   ]
  },
  {
   "cell_type": "code",
   "execution_count": 13,
   "metadata": {},
   "outputs": [],
   "source": [
    "class State(TypedDict):\n",
    "    text: str\n",
    "    classification: str\n",
    "    entities: List[str]\n",
    "    summary: str\n",
    "\n",
    "llm = ChatOpenAI(model=\"gpt-4o-mini\", temperature=0)"
   ]
  },
  {
   "cell_type": "markdown",
   "metadata": {},
   "source": [
    "### Definir Funções dos Nós\n",
    "Estas funções definem as operações realizadas em cada nó do nosso grafo: classificação, extração de entidades e resumo."
   ]
  },
  {
   "cell_type": "code",
   "execution_count": 14,
   "metadata": {},
   "outputs": [],
   "source": [
    "def classification_node(state: State):\n",
    "    ''' Classifica o texto em uma das categorias: Notícias, Blog, Pesquisa ou Outro '''\n",
    "    prompt = PromptTemplate(\n",
    "        input_variables=[\"text\"],\n",
    "        template=\"Classifique o seguinte texto em uma das categorias: Notícias, Blog, Pesquisa ou Outro.\\n\\nTexto:{text}\\n\\nCategoria:\"\n",
    "    )\n",
    "    message = HumanMessage(content=prompt.format(text=state[\"text\"]))\n",
    "    classification = llm.predict_messages([message]).content.strip()\n",
    "    return {\"classification\": classification}\n",
    "\n",
    "\n",
    "def entity_extraction_node(state: State):\n",
    "    ''' Extrai todas as entidades (Pessoa, Organização, Local) do texto '''\n",
    "    prompt = PromptTemplate(\n",
    "        input_variables=[\"text\"],\n",
    "        template=\"Extraia todas as entidades (Pessoa, Organização, Local) do seguinte texto. Forneça o resultado como uma lista separada por vírgulas.\\n\\nTexto:{text}\\n\\nEntidades:\"\n",
    "    )\n",
    "    message = HumanMessage(content=prompt.format(text=state[\"text\"]))\n",
    "    entities = llm.predict_messages([message]).content.strip().split(\", \")\n",
    "    return {\"entities\": entities}\n",
    "\n",
    "\n",
    "def summarization_node(state: State):\n",
    "    ''' Resume o texto em uma frase curta '''\n",
    "    prompt = PromptTemplate(\n",
    "        input_variables=[\"text\"],\n",
    "        template=\"Resuma o seguinte texto em uma frase curta.\\n\\nTexto:{text}\\n\\nResumo:\"\n",
    "    )\n",
    "    message = HumanMessage(content=prompt.format(text=state[\"text\"]))\n",
    "    summary = llm.predict_messages([message]).content.strip()\n",
    "    return {\"summary\": summary}"
   ]
  },
  {
   "cell_type": "markdown",
   "metadata": {},
   "source": [
    "### Criar Ferramentas e Construir Fluxo de Trabalho\n",
    "Esta célula constrói o fluxo de trabalho StateGraph."
   ]
  },
  {
   "cell_type": "code",
   "execution_count": 15,
   "metadata": {},
   "outputs": [],
   "source": [
    "workflow = StateGraph(State)\n",
    "\n",
    "# Adicionar nós ao grafo\n",
    "workflow.add_node(\"classification_node\", classification_node)\n",
    "workflow.add_node(\"entity_extraction\", entity_extraction_node)\n",
    "workflow.add_node(\"summarization\", summarization_node)\n",
    "\n",
    "# Adicionar arestas ao grafo\n",
    "workflow.set_entry_point(\"classification_node\") # Definir o ponto de entrada do grafo\n",
    "workflow.add_edge(\"classification_node\", \"entity_extraction\")\n",
    "workflow.add_edge(\"entity_extraction\", \"summarization\")\n",
    "workflow.add_edge(\"summarization\", END)\n",
    "\n",
    "# Compilar o grafo\n",
    "app = workflow.compile()"
   ]
  },
  {
   "cell_type": "markdown",
   "metadata": {},
   "source": [
    "## Visualizando o Fluxo de Trabalho\n",
    "Esta célula cria uma representação visual do nosso fluxo de trabalho usando Mermaid"
   ]
  },
  {
   "cell_type": "code",
   "execution_count": 16,
   "metadata": {},
   "outputs": [
    {
     "data": {
      "image/png": "[encoded data removed]",
      "text/plain": [
       "<IPython.core.display.Image object>"
      ]
     },
     "metadata": {},
     "output_type": "display_data"
    }
   ],
   "source": [
    "display(\n",
    "    Image(\n",
    "        app.get_graph().draw_mermaid_png(\n",
    "            draw_method=MermaidDrawMethod.API,\n",
    "        )\n",
    "    )\n",
    ")"
   ]
  },
  {
   "cell_type": "markdown",
   "metadata": {},
   "source": [
    "## Testando o Pipeline\n",
    "Esta célula executa um texto de exemplo através do nosso pipeline e exibe os resultados."
   ]
  },
  {
   "cell_type": "code",
   "execution_count": 17,
   "metadata": {},
   "outputs": [
    {
     "name": "stdout",
     "output_type": "stream",
     "text": [
      "Classificação: Blog\n",
      "\n",
      "Entidades: ['Samuel Fernando', 'Scoras Academy', 'Anderson Amaral']\n",
      "\n",
      "Resumo: Samuel Fernando critica cursos de IA oferecidos por influenciadores e recomenda o Scoras Academy, que oferece formação avançada em IA Generativa, destacando a expertise de Anderson Amaral.\n"
     ]
    }
   ],
   "source": [
    "sample_text = \"\"\"\n",
    "Post do Linkedin Influencer Samuel Fernando: Quase todos os dias eu recebo mensagem com perguntas do que eu recomendo de cursos e formação em GenAI/LLM.\n",
    "\n",
    "Eu tenho uma opinião muito forte sobre todos os cursos, imersões e essas coisas de \"formação de IA para executivos\" oferecidos por influenciadores famosos, escolas de negócios e plataformas de cursos. Costumo chamar de oba-oba. \n",
    "\n",
    "Portanto, eu, Samuel, que estudo, trabalho, pesquiso e divulgo IA desde 2016, NUNCA RECOMENDO. Se quiser eu explico meus motivos. IA Generativa é um assunto ultraespecializado com técnicas, papers e ferramentas recentes surgindo diariamente. Mas não é só isso. \n",
    "\n",
    "Entretanto, agora temos o Scoras Academy para recomendar com trilhas avançadas de assuntos e técnicas emergentes usadas em IA: SLMs, Agentics Workflows, AI Agents From Scratch, LLM Routing, etc.\n",
    "\n",
    "Ninguém no Brasil, nesse momento, conhece isso com profundidade, do hands-on à estratégia de business e produtização de IA Generativa, mais do que o colega Anderson Amaral, que é um pioneiro brasileiro nesse negócio. \n",
    "\n",
    "\"\"\"\n",
    "\n",
    "state_input = {\"text\": sample_text}\n",
    "result = app.invoke(state_input)\n",
    "\n",
    "print(\"Classificação:\", result[\"classification\"])\n",
    "print(\"\\nEntidades:\", result[\"entities\"])\n",
    "print(\"\\nResumo:\", result[\"summary\"])"
   ]
  },
  {
   "cell_type": "markdown",
   "metadata": {},
   "source": [
    "## Conclusão\n",
    "\n",
    "Neste tutorial, nós:\n",
    "- Exploramos os conceitos do LangGraph\n",
    "- Construímos um pipeline de processamento de texto\n",
    "- Demonstramos o uso do LangGraph em fluxos de trabalho de processamento de dados\n",
    "- Visualizamos o fluxo de trabalho usando Mermaid\n",
    "\n",
    "Este exemplo mostra como o LangGraph pode ser usado para tarefas além de agentes conversacionais, fornecendo um framework flexível para criar fluxos de trabalho complexos baseados em grafos."
   ]
  }
 ],
 "metadata": {
  "kernelspec": {
   "display_name": "base",
   "language": "python",
   "name": "python3"
  },
  "language_info": {
   "codemirror_mode": {
    "name": "ipython",
    "version": 3
   },
   "file_extension": ".py",
   "mimetype": "text/x-python",
   "name": "python",
   "nbconvert_exporter": "python",
   "pygments_lexer": "ipython3",
   "version": "3.13.5"
  }
 },
 "nbformat": 4,
 "nbformat_minor": 4
}
