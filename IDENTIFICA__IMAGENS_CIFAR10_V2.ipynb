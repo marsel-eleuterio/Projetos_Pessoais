{
 "cells": [
  {
   "cell_type": "code",
   "execution_count": 1,
   "id": "7bd62bba",
   "metadata": {},
   "outputs": [],
   "source": [
    "import torch\n",
    "import torch.nn as nn\n",
    "import torch.optim as optim\n",
    "import torchvision\n",
    "import torchvision.transforms as transforms\n",
    "from torchvision import models\n",
    "import matplotlib.pyplot as plt"
   ]
  },
  {
   "cell_type": "code",
   "execution_count": 2,
   "id": "936331f0",
   "metadata": {},
   "outputs": [
    {
     "name": "stdout",
     "output_type": "stream",
     "text": [
      "Usando: cuda\n"
     ]
    }
   ],
   "source": [
    "# ⛽ Dispositivo\n",
    "device = torch.device(\"cuda\" if torch.cuda.is_available() else \"cpu\")\n",
    "print(\"Usando:\", device)"
   ]
  },
  {
   "cell_type": "code",
   "execution_count": 3,
   "id": "1db30e22",
   "metadata": {},
   "outputs": [],
   "source": [
    "# 🎨 Transformações com Data Augmentation\n",
    "transform_train = transforms.Compose([\n",
    "    transforms.RandomCrop(32, padding=4),\n",
    "    transforms.RandomHorizontalFlip(),\n",
    "    transforms.ToTensor(),\n",
    "    transforms.Normalize((0.5,), (0.5,))\n",
    "])\n",
    "\n",
    "transform_test = transforms.Compose([\n",
    "    transforms.ToTensor(),\n",
    "    transforms.Normalize((0.5,), (0.5,))\n",
    "])"
   ]
  },
  {
   "cell_type": "code",
   "execution_count": 4,
   "id": "0ab6abff",
   "metadata": {},
   "outputs": [
    {
     "name": "stderr",
     "output_type": "stream",
     "text": [
      "100%|██████████| 170M/170M [02:48<00:00, 1.01MB/s] \n"
     ]
    }
   ],
   "source": [
    "# 🧺 CIFAR-10 datasets\n",
    "trainset = torchvision.datasets.CIFAR10(root='./data', train=True, download=True, transform=transform_train)\n",
    "trainloader = torch.utils.data.DataLoader(trainset, batch_size=64, shuffle=True)\n",
    "\n",
    "testset = torchvision.datasets.CIFAR10(root='./data', train=False, download=True, transform=transform_test)\n",
    "testloader = torch.utils.data.DataLoader(testset, batch_size=64, shuffle=False)"
   ]
  },
  {
   "cell_type": "code",
   "execution_count": 5,
   "id": "c25dd003",
   "metadata": {},
   "outputs": [],
   "source": [
    "# 🧠 Modelo: ResNet18 com saída ajustada para 10 classes\n",
    "model = models.resnet18(weights=None)\n",
    "model.fc = nn.Linear(model.fc.in_features, 10)  # CIFAR10 tem 10 classes\n",
    "model = model.to(device)"
   ]
  },
  {
   "cell_type": "code",
   "execution_count": 6,
   "id": "a8ded79e",
   "metadata": {},
   "outputs": [],
   "source": [
    "# 📦 Otimizador + agendador\n",
    "criterion = nn.CrossEntropyLoss()\n",
    "optimizer = optim.SGD(model.parameters(), lr=0.1, momentum=0.9, weight_decay=5e-4)\n",
    "scheduler = torch.optim.lr_scheduler.StepLR(optimizer, step_size=25, gamma=0.5)"
   ]
  },
  {
   "cell_type": "code",
   "execution_count": 7,
   "id": "a69b9a72",
   "metadata": {},
   "outputs": [],
   "source": [
    "# 📈 Armazenar métricas\n",
    "train_loss_history = []\n",
    "train_acc_history = []"
   ]
  },
  {
   "cell_type": "code",
   "execution_count": 8,
   "id": "fadb2943",
   "metadata": {},
   "outputs": [
    {
     "name": "stdout",
     "output_type": "stream",
     "text": [
      "Época 1 ➤ Loss: 1611.530, Acurácia: 29.85%\n",
      "Época 2 ➤ Loss: 1195.376, Acurácia: 43.89%\n",
      "Época 3 ➤ Loss: 1052.602, Acurácia: 51.68%\n",
      "Época 4 ➤ Loss: 946.979, Acurácia: 56.93%\n",
      "Época 5 ➤ Loss: 886.853, Acurácia: 60.24%\n",
      "Época 6 ➤ Loss: 843.816, Acurácia: 62.46%\n",
      "Época 7 ➤ Loss: 810.494, Acurácia: 64.14%\n",
      "Época 8 ➤ Loss: 784.115, Acurácia: 65.35%\n",
      "Época 9 ➤ Loss: 767.168, Acurácia: 66.12%\n",
      "Época 10 ➤ Loss: 756.479, Acurácia: 66.80%\n",
      "Época 11 ➤ Loss: 741.168, Acurácia: 67.36%\n",
      "Época 12 ➤ Loss: 735.106, Acurácia: 67.96%\n",
      "Época 13 ➤ Loss: 721.762, Acurácia: 68.39%\n",
      "Época 14 ➤ Loss: 714.846, Acurácia: 68.98%\n",
      "Época 15 ➤ Loss: 718.957, Acurácia: 68.43%\n",
      "Época 16 ➤ Loss: 711.207, Acurácia: 68.87%\n",
      "Época 17 ➤ Loss: 709.405, Acurácia: 69.19%\n",
      "Época 18 ➤ Loss: 700.934, Acurácia: 69.63%\n",
      "Época 19 ➤ Loss: 698.028, Acurácia: 69.61%\n",
      "Época 20 ➤ Loss: 698.402, Acurácia: 69.64%\n",
      "Época 21 ➤ Loss: 698.695, Acurácia: 69.67%\n",
      "Época 22 ➤ Loss: 688.758, Acurácia: 70.25%\n",
      "Época 23 ➤ Loss: 697.561, Acurácia: 69.73%\n",
      "Época 24 ➤ Loss: 686.558, Acurácia: 70.01%\n",
      "Época 25 ➤ Loss: 678.949, Acurácia: 70.41%\n",
      "✅ Treinamento finalizado.\n"
     ]
    }
   ],
   "source": [
    "# 🔁 Treinamento com monitoramento\n",
    "for epoch in range(25):\n",
    "    model.train()\n",
    "    running_loss = 0.0\n",
    "    correct = 0\n",
    "    total = 0\n",
    "\n",
    "    for inputs, labels in trainloader:\n",
    "        inputs, labels = inputs.to(device), labels.to(device)\n",
    "\n",
    "        optimizer.zero_grad()\n",
    "        outputs = model(inputs)\n",
    "        loss = criterion(outputs, labels)\n",
    "        loss.backward()\n",
    "        optimizer.step()\n",
    "\n",
    "        running_loss += loss.item()\n",
    "        _, predicted = torch.max(outputs.data, 1)\n",
    "        total += labels.size(0)\n",
    "        correct += (predicted == labels).sum().item()\n",
    "\n",
    "    scheduler.step()\n",
    "    acc = 100 * correct / total\n",
    "    train_loss_history.append(running_loss)\n",
    "    train_acc_history.append(acc)\n",
    "\n",
    "    print(f\"Época {epoch + 1} ➤ Loss: {running_loss:.3f}, Acurácia: {acc:.2f}%\")\n",
    "\n",
    "print(\"✅ Treinamento finalizado.\")"
   ]
  },
  {
   "cell_type": "code",
   "execution_count": 9,
   "id": "cb466a62",
   "metadata": {},
   "outputs": [
    {
     "name": "stdout",
     "output_type": "stream",
     "text": [
      "Acurácia no teste: 71.33%\n"
     ]
    }
   ],
   "source": [
    "# 🔍 Avaliação no conjunto de teste\n",
    "model.eval()\n",
    "correct = 0\n",
    "total = 0\n",
    "with torch.no_grad():\n",
    "    for inputs, labels in testloader:\n",
    "        inputs, labels = inputs.to(device), labels.to(device)\n",
    "        outputs = model(inputs)\n",
    "        _, predicted = torch.max(outputs.data, 1)\n",
    "        total += labels.size(0)\n",
    "        correct += (predicted == labels).sum().item()\n",
    "\n",
    "print(f\"Acurácia no teste: {100 * correct / total:.2f}%\")"
   ]
  },
  {
   "cell_type": "code",
   "execution_count": 11,
   "id": "09175d40",
   "metadata": {},
   "outputs": [
    {
     "data": {
      "image/png": "[encoded data removed]",
      "text/plain": [
       "<Figure size 1200x500 with 2 Axes>"
      ]
     },
     "metadata": {},
     "output_type": "display_data"
    }
   ],
   "source": [
    "# 📊 Visualização das métricas\n",
    "plt.figure(figsize=(12, 5))\n",
    "\n",
    "plt.subplot(1, 2, 1)\n",
    "plt.plot(train_loss_history, label=\"Loss (treino)\", color='red')\n",
    "plt.xlabel(\"Época\")\n",
    "plt.ylabel(\"Loss\")\n",
    "plt.title(\"Curva de Loss\")\n",
    "plt.grid()\n",
    "plt.legend()\n",
    "\n",
    "plt.subplot(1, 2, 2)\n",
    "plt.plot(train_acc_history, label=\"Acurácia (treino)\", color='blue')\n",
    "plt.xlabel(\"Época\")\n",
    "plt.ylabel(\"Acurácia (%)\")\n",
    "plt.title(\"Curva de Acurácia\")\n",
    "plt.grid()\n",
    "plt.legend()\n",
    "\n",
    "plt.tight_layout()\n",
    "plt.show()"
   ]
  },
  {
   "cell_type": "code",
   "execution_count": null,
   "id": "20ad2698",
   "metadata": {},
   "outputs": [],
   "source": []
  },
  {
   "cell_type": "code",
   "execution_count": null,
   "id": "51ed3f0a",
   "metadata": {},
   "outputs": [],
   "source": [
    "%pip install streamlit"
   ]
  },
  {
   "cell_type": "code",
   "execution_count": 15,
   "id": "a9b03aa0",
   "metadata": {},
   "outputs": [],
   "source": [
    "import streamlit as st\n",
    "import torch\n",
    "from torchvision import transforms, models\n",
    "from PIL import Image"
   ]
  },
  {
   "cell_type": "code",
   "execution_count": 17,
   "id": "a6c0b1ef",
   "metadata": {},
   "outputs": [],
   "source": [
    "torch.save(model.state_dict(), \"modelo_treinado.pth\")\n"
   ]
  },
  {
   "cell_type": "code",
   "execution_count": 18,
   "id": "9faed804",
   "metadata": {},
   "outputs": [],
   "source": [
    "# 🧠 Configuração\n",
    "device = torch.device(\"cuda\" if torch.cuda.is_available() else \"cpu\")\n",
    "model = models.resnet18(weights=None)\n",
    "model.fc = torch.nn.Linear(model.fc.in_features, 10)  # CIFAR-10 tem 10 classes\n",
    "model.load_state_dict(torch.load(\"modelo_treinado.pth\", map_location=device))  # arquivo salvo\n",
    "model.eval().to(device)\n",
    "\n",
    "classes = ['avião', 'automóvel', 'pássaro', 'gato', 'veado', 'cachorro', 'sapo', 'cavalo', 'navio', 'caminhão']\n"
   ]
  },
  {
   "cell_type": "code",
   "execution_count": 19,
   "id": "0205406f",
   "metadata": {},
   "outputs": [],
   "source": [
    "# 🎨 Transformação\n",
    "transformacao = transforms.Compose([\n",
    "    transforms.Resize(32),\n",
    "    transforms.CenterCrop(32),\n",
    "    transforms.ToTensor(),\n",
    "    transforms.Normalize((0.5,), (0.5,))\n",
    "])"
   ]
  },
  {
   "cell_type": "code",
   "execution_count": 20,
   "id": "cbbd4230",
   "metadata": {},
   "outputs": [
    {
     "name": "stderr",
     "output_type": "stream",
     "text": [
      "2025-07-21 22:17:38.230 WARNING streamlit.runtime.scriptrunner_utils.script_run_context: Thread 'MainThread': missing ScriptRunContext! This warning can be ignored when running in bare mode.\n",
      "2025-07-21 22:17:38.309 \n",
      "  \u001b[33m\u001b[1mWarning:\u001b[0m to view this Streamlit app on a browser, run it with the following\n",
      "  command:\n",
      "\n",
      "    streamlit run c:\\Users\\marse\\Documentos\\scoras\\Lib\\site-packages\\ipykernel_launcher.py [ARGUMENTS]\n",
      "2025-07-21 22:17:38.311 Thread 'MainThread': missing ScriptRunContext! This warning can be ignored when running in bare mode.\n",
      "2025-07-21 22:17:38.312 Thread 'MainThread': missing ScriptRunContext! This warning can be ignored when running in bare mode.\n",
      "2025-07-21 22:17:38.313 Thread 'MainThread': missing ScriptRunContext! This warning can be ignored when running in bare mode.\n",
      "2025-07-21 22:17:38.314 Thread 'MainThread': missing ScriptRunContext! This warning can be ignored when running in bare mode.\n",
      "2025-07-21 22:17:38.315 Thread 'MainThread': missing ScriptRunContext! This warning can be ignored when running in bare mode.\n",
      "2025-07-21 22:17:38.316 Thread 'MainThread': missing ScriptRunContext! This warning can be ignored when running in bare mode.\n",
      "2025-07-21 22:17:38.317 Thread 'MainThread': missing ScriptRunContext! This warning can be ignored when running in bare mode.\n",
      "2025-07-21 22:17:38.318 Thread 'MainThread': missing ScriptRunContext! This warning can be ignored when running in bare mode.\n",
      "2025-07-21 22:17:38.319 Thread 'MainThread': missing ScriptRunContext! This warning can be ignored when running in bare mode.\n",
      "2025-07-21 22:17:38.320 Thread 'MainThread': missing ScriptRunContext! This warning can be ignored when running in bare mode.\n",
      "2025-07-21 22:17:38.321 Thread 'MainThread': missing ScriptRunContext! This warning can be ignored when running in bare mode.\n"
     ]
    }
   ],
   "source": [
    "# 🖼️ Interface\n",
    "st.title(\"Classificador de Imagens com PyTorch 🚀\")\n",
    "st.markdown(\"Treinado com CIFAR-10 usando GPU\")\n",
    "\n",
    "imagem_upada = st.file_uploader(\"Envie uma imagem\", type=[\"jpg\", \"png\"])\n",
    "\n",
    "if imagem_upada:\n",
    "    imagem = Image.open(imagem_upada).convert(\"RGB\")\n",
    "    st.image(imagem, caption=\"Imagem enviada\", use_column_width=True)\n",
    "\n",
    "    input_tensor = transformacao(imagem).unsqueeze(0).to(device)\n",
    "\n",
    "    with torch.no_grad():\n",
    "        output = model(input_tensor)\n",
    "        _, pred = torch.max(output, 1)\n",
    "        label = classes[pred.item()]\n",
    "\n",
    "    st.success(f\"🧠 Predição: **{label}**\")"
   ]
  },
  {
   "cell_type": "code",
   "execution_count": null,
   "id": "fd16f104",
   "metadata": {},
   "outputs": [
    {
     "name": "stderr",
     "output_type": "stream",
     "text": [
      "UsageError: Line magic function `%streamlit` not found.\n"
     ]
    }
   ],
   "source": [
    "# rodar streamlit run app.py\n"
   ]
  }
 ],
 "metadata": {
  "kernelspec": {
   "display_name": "base",
   "language": "python",
   "name": "python3"
  },
  "language_info": {
   "codemirror_mode": {
    "name": "ipython",
    "version": 3
   },
   "file_extension": ".py",
   "mimetype": "text/x-python",
   "name": "python",
   "nbconvert_exporter": "python",
   "pygments_lexer": "ipython3",
   "version": "3.13.5"
  }
 },
 "nbformat": 4,
 "nbformat_minor": 5
}
